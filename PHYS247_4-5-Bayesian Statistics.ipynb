{
 "cells": [
  {
   "cell_type": "markdown",
   "id": "8f4ccb9a",
   "metadata": {},
   "source": [
    "---\n",
    "# <center> **An Introduction to Data Science**\n",
    "## <center> Spring 2024\n",
    "\n",
    "### <center> **Prof. Bahram Mobasher**\n",
    "### Teaching Assistant: **Sina Taamoli** | email: *sina.taamoli@email.ucr.edu*\n",
    "### [Course webpage](https://github.com/sinataamoli/Applied-Data-Science)\n",
    "#### Week 4 (April 25th): Bayesian Statistics\n",
    "---"
   ]
  },
  {
   "cell_type": "markdown",
   "id": "7b7f515f",
   "metadata": {},
   "source": [
    "## Bayesian Statistics"
   ]
  },
  {
   "cell_type": "markdown",
   "id": "b03b2735",
   "metadata": {},
   "source": [
    "In the Bayesian framework, the probability is defined as the measure of belief in an event occurring. We naturally use our beliefs as a probability of an event. Our belief in a hypothesis after taking data is proportional to how well that hypothesis explains the data times our prior belief."
   ]
  },
  {
   "cell_type": "markdown",
   "id": "753d97d7",
   "metadata": {},
   "source": [
    "<center> $P(hypothesis|data) \\propto P(data|hypothesis) P(hypothesis)$ <center>"
   ]
  },
  {
   "cell_type": "markdown",
   "id": "bfce48fd",
   "metadata": {},
   "source": [
    "P(hypothesis|data): Posterior probability <br>\n",
    "P(data|hypothesis): Likelihood function <br>\n",
    "P(hypothesis): Prior probability"
   ]
  },
  {
   "cell_type": "markdown",
   "id": "d40bea54",
   "metadata": {},
   "source": [
    "Example: Daniel Kahneman has an interesting example in his book. Steve has been described by his neighbor as follows: “Steve is very shy and withdrawn, helpful but with very little interest in people or in the world of reality. He has a need for order and structure, and a passion for detail.” Is Steve more likely to be a librarian or a farmer?"
   ]
  },
  {
   "cell_type": "markdown",
   "id": "6d1b8217",
   "metadata": {},
   "source": [
    "At first glance, it seems that Steve is more likely to be a librarian. Are we missing something?\n",
    "Yes, we are missing prior belief (background information). In the United States, the ratio of male\n",
    "farmers to male librarians is about 20 to 1. How can we incorporate this background information\n",
    "in our belief? If we have no information from his neighbor, then the probability of being a librarian is $\\frac{1}{21}$. So, prior probability=P(steve is a librarian) = $\\frac{1}{21}$. Now, we are given information from the neighbor. The probability of his neighbor’s description given that Steve is a librarian shows the likelihood function. Let’s consider that we are 90% confident that the neighbor describes Steve in that way if he is a librarian. So, P(neighbor info|Steve is a librarian)= 0.9."
   ]
  },
  {
   "cell_type": "markdown",
   "id": "740b0325",
   "metadata": {},
   "source": [
    "P(Steve is a librarian|neighbor info) $\\propto$ P(neighbor info|Steve is a librarian) P(Steve is a librarian)"
   ]
  },
  {
   "cell_type": "markdown",
   "id": "058ea2d1",
   "metadata": {},
   "source": [
    "Posterior probability on the left-hand side of the equation should be normalized (0 ≤ P ≤ 1), so:"
   ]
  },
  {
   "cell_type": "markdown",
   "id": "3927ddfa",
   "metadata": {},
   "source": [
    "P(Steve is a librarian|neighbor info) <br>\n",
    "<br>\n",
    "= $\\frac{\\text{P(neighbor info|Steve is a librarian})P(\\text{Steve is a librarian)}}{\n",
    "P(\\text{neighbor info|Steve is a librarian})P(\\text{Steve is a librarian})+P(\\text{neighbor info|Steve is a farmer})P(\\text{Steve is a farmer})}$ <br>\n",
    "<br>\n",
    "Let’s consider that P(neighbor info|Steve is a farmer)= 0.5 <br>\n",
    " P(Steve is a librarian|neighbor info) =$\\frac{\n",
    "0.9× 1 21}{\n",
    "0.9× 1 +0.5× 20}$\n",
    "= 8.2% <br>\n",
    " Now, let’s look into another example:"
   ]
  },
  {
   "cell_type": "code",
   "execution_count": 1,
   "id": "95a8144b",
   "metadata": {},
   "outputs": [],
   "source": [
    "import numpy as np\n",
    "import matplotlib.pyplot as plt"
   ]
  },
  {
   "cell_type": "markdown",
   "id": "3aea589f",
   "metadata": {},
   "source": [
    "Poisson distribution <br>\n",
    "$P(k;\\lambda) = \\frac{\\lambda^{k}e^{-\\lambda}}{k!}$ <br>\n",
    "Create random numbers with Poisson distribution"
   ]
  },
  {
   "cell_type": "code",
   "execution_count": 17,
   "id": "02769c96",
   "metadata": {},
   "outputs": [
    {
     "data": {
      "text/plain": [
       "(array([14, 12, 13, ..., 17, 13,  7]), 100000)"
      ]
     },
     "execution_count": 17,
     "metadata": {},
     "output_type": "execute_result"
    }
   ],
   "source": [
    "t = np.random.poisson(10, 100000)\n",
    "t, len(t)"
   ]
  },
  {
   "cell_type": "markdown",
   "id": "2035ee4e",
   "metadata": {},
   "source": [
    "what is the average of k?"
   ]
  },
  {
   "cell_type": "code",
   "execution_count": 36,
   "id": "6e7f29d8",
   "metadata": {},
   "outputs": [],
   "source": [
    "Poisson = lambda k, λ: (λ**k) * np.exp(-λ) / np.math.factorial(k)"
   ]
  },
  {
   "cell_type": "code",
   "execution_count": 37,
   "id": "72d8f131",
   "metadata": {},
   "outputs": [],
   "source": [
    "Poisson = np.vectorize(Poisson)"
   ]
  },
  {
   "cell_type": "code",
   "execution_count": 6,
   "id": "b45b0569",
   "metadata": {},
   "outputs": [
    {
     "data": {
      "text/plain": [
       "array(0.00227)"
      ]
     },
     "execution_count": 6,
     "metadata": {},
     "output_type": "execute_result"
    }
   ],
   "source": [
    "Poisson(2, 10)"
   ]
  },
  {
   "cell_type": "code",
   "execution_count": 19,
   "id": "308cf6ed",
   "metadata": {},
   "outputs": [
    {
     "data": {
      "text/plain": [
       "array([ 0,  1,  2,  3,  4,  5,  6,  7,  8,  9, 10, 11, 12, 13, 14, 15, 16,\n",
       "       17, 18, 19, 20, 21, 22, 23, 24])"
      ]
     },
     "execution_count": 19,
     "metadata": {},
     "output_type": "execute_result"
    }
   ],
   "source": [
    "k = np.arange(25)\n",
    "k"
   ]
  },
  {
   "cell_type": "code",
   "execution_count": 20,
   "id": "7daca2ae",
   "metadata": {},
   "outputs": [],
   "source": [
    "poisson_function = [Poisson(k[i], 10) for i in range(len(k))]"
   ]
  },
  {
   "cell_type": "code",
   "execution_count": 21,
   "id": "b1693668",
   "metadata": {},
   "outputs": [
    {
     "data": {
      "text/plain": [
       "Text(0, 0.5, 'P')"
      ]
     },
     "execution_count": 21,
     "metadata": {},
     "output_type": "execute_result"
    },
    {
     "data": {
      "image/png": "[encoded data removed]",
      "text/plain": [
       "<Figure size 576x360 with 1 Axes>"
      ]
     },
     "metadata": {
      "needs_background": "light"
     },
     "output_type": "display_data"
    }
   ],
   "source": [
    "plt.figure(figsize = (8, 5))\n",
    "\n",
    "plt.hist(t, bins = 10, density = True)\n",
    "plt.plot(np.arange(25), poisson_function, c = 'r', marker = 'o')\n",
    "\n",
    "plt.xlabel('k', fontsize = 15)\n",
    "plt.ylabel('P', fontsize = 15)"
   ]
  },
  {
   "cell_type": "markdown",
   "id": "52b3fbbc",
   "metadata": {},
   "source": [
    "What is the average of k?"
   ]
  },
  {
   "cell_type": "code",
   "execution_count": 23,
   "id": "118552ea",
   "metadata": {},
   "outputs": [
    {
     "data": {
      "text/plain": [
       "10.00958"
      ]
     },
     "execution_count": 23,
     "metadata": {},
     "output_type": "execute_result"
    }
   ],
   "source": [
    "np.mean(t)"
   ]
  },
  {
   "cell_type": "code",
   "execution_count": 25,
   "id": "29022c65",
   "metadata": {},
   "outputs": [
    {
     "data": {
      "text/plain": [
       "array([43, 56, 45, 54, 39, 44, 47, 58, 64, 54, 49, 40, 54, 48, 46, 40, 44,\n",
       "       57, 39, 49, 43, 49, 66, 55, 41, 47, 41, 50, 59, 59, 54, 45, 52, 53,\n",
       "       59, 59, 41, 41, 58, 53, 45, 58, 47, 57, 39, 44, 46, 61, 37, 38, 41,\n",
       "       66])"
      ]
     },
     "execution_count": 25,
     "metadata": {},
     "output_type": "execute_result"
    }
   ],
   "source": [
    "tweet = np.random.poisson(50, 52)\n",
    "tweet"
   ]
  },
  {
   "cell_type": "code",
   "execution_count": 26,
   "id": "7af23355",
   "metadata": {},
   "outputs": [
    {
     "data": {
      "text/plain": [
       "Text(0.5, 1.0, 'Weekly tweet counts')"
      ]
     },
     "execution_count": 26,
     "metadata": {},
     "output_type": "execute_result"
    },
    {
     "data": {
      "image/png": "[encoded data removed]",
      "text/plain": [
       "<Figure size 1080x216 with 1 Axes>"
      ]
     },
     "metadata": {
      "needs_background": "light"
     },
     "output_type": "display_data"
    }
   ],
   "source": [
    "plt.figure(figsize = (15, 3))\n",
    "plt.bar(np.arange(1, 53), tweet, color = 'green', edgecolor='black')\n",
    "plt.xlim(0, 53)\n",
    "plt.xlabel('Week', fontsize = 15)\n",
    "plt.ylabel('tweet counts', fontsize = 15)\n",
    "\n",
    "plt.title('Weekly tweet counts', fontsize = 20)"
   ]
  },
  {
   "cell_type": "markdown",
   "id": "cd938de7",
   "metadata": {},
   "source": [
    "The data have been generated using Poisson distribution with $\\lambda=50$. Imagine that we don't know underlying distribution and we want to estimate it.<br>\n",
    "Consider that the weekly tweet counts are drawn from a Poisson distribution with unknown $\\lambda$. Do we have any prior belief on $\\lambda$? <br>\n",
    "Exponential random distribution<br>\n",
    "$P(\\lambda, \\alpha) = \\alpha e^{-\\lambda \\alpha}$"
   ]
  },
  {
   "cell_type": "markdown",
   "id": "d2330da3",
   "metadata": {},
   "source": [
    "Assume that a normal person tweets 25 tweets per week ($\\alpha = 1/25=0.04$)"
   ]
  },
  {
   "cell_type": "code",
   "execution_count": 28,
   "id": "537faa51",
   "metadata": {},
   "outputs": [],
   "source": [
    "Exponential = lambda λ, α: α * np.exp(-λ * α)\n",
    "Exponential = np.vectorize(Exponential)"
   ]
  },
  {
   "cell_type": "code",
   "execution_count": 29,
   "id": "df33af59",
   "metadata": {},
   "outputs": [
    {
     "data": {
      "image/png": "[encoded data removed]",
      "text/plain": [
       "<Figure size 432x288 with 1 Axes>"
      ]
     },
     "metadata": {
      "needs_background": "light"
     },
     "output_type": "display_data"
    }
   ],
   "source": [
    "plt.plot(np.linspace(0, 200, 1000), Exponential(np.linspace(0, 200, 1000), 0.04), c = 'r')\n",
    "plt.xlabel(r'$\\lambda$', fontsize = 15)\n",
    "plt.ylabel(r'$P$', fontsize = 15)\n",
    "plt.show()"
   ]
  },
  {
   "cell_type": "markdown",
   "id": "e385034d",
   "metadata": {},
   "source": [
    "Let's make a grid for $\\lambda$ and find posterior of every single point"
   ]
  },
  {
   "cell_type": "code",
   "execution_count": 55,
   "id": "b408599b",
   "metadata": {},
   "outputs": [
    {
     "data": {
      "text/plain": [
       "array([40.        , 40.010005  , 40.02001001, ..., 59.97998999,\n",
       "       59.989995  , 60.        ])"
      ]
     },
     "execution_count": 55,
     "metadata": {},
     "output_type": "execute_result"
    }
   ],
   "source": [
    "λ_est = np.linspace(40, 60, 2000)\n",
    "λ_est"
   ]
  },
  {
   "cell_type": "code",
   "execution_count": 56,
   "id": "1ed82619",
   "metadata": {},
   "outputs": [],
   "source": [
    "def posterior_tweet(λ_est, tweet_Data):\n",
    "    return np.prod(Poisson(tweet_Data, λ_est) * Exponential(λ_est, 0.04))"
   ]
  },
  {
   "cell_type": "code",
   "execution_count": 57,
   "id": "08492d8c",
   "metadata": {},
   "outputs": [],
   "source": [
    "P = np.array([])\n",
    "for j in λ_est:\n",
    "    P = np.append(P, posterior_tweet(j, tweet))"
   ]
  },
  {
   "cell_type": "code",
   "execution_count": 58,
   "id": "e910dd0e",
   "metadata": {},
   "outputs": [],
   "source": [
    "Posterior = P / np.trapz(P, λ_est)"
   ]
  },
  {
   "cell_type": "code",
   "execution_count": 59,
   "id": "8ab2cdc0",
   "metadata": {},
   "outputs": [
    {
     "data": {
      "text/plain": [
       "[<matplotlib.lines.Line2D at 0x7fe00872cdf0>]"
      ]
     },
     "execution_count": 59,
     "metadata": {},
     "output_type": "execute_result"
    },
    {
     "data": {
      "image/png": "[encoded data removed]",
      "text/plain": [
       "<Figure size 432x288 with 1 Axes>"
      ]
     },
     "metadata": {
      "needs_background": "light"
     },
     "output_type": "display_data"
    }
   ],
   "source": [
    "plt.plot(λ_est, Posterior)"
   ]
  },
  {
   "cell_type": "code",
   "execution_count": 60,
   "id": "42ebc53f",
   "metadata": {},
   "outputs": [
    {
     "data": {
      "text/plain": [
       "47.59379689844923"
      ]
     },
     "execution_count": 60,
     "metadata": {},
     "output_type": "execute_result"
    }
   ],
   "source": [
    "λ_mode = λ_est[np.argmax(Posterior)]\n",
    "λ_mode"
   ]
  },
  {
   "cell_type": "code",
   "execution_count": 43,
   "id": "4de7611f",
   "metadata": {},
   "outputs": [
    {
     "data": {
      "text/plain": [
       "Text(47.59379689844923, 0.4252330843329765, '$\\\\lambda_{mode}$ = 47.59')"
      ]
     },
     "execution_count": 43,
     "metadata": {},
     "output_type": "execute_result"
    },
    {
     "data": {
      "image/png": "[encoded data removed]",
      "text/plain": [
       "<Figure size 576x360 with 1 Axes>"
      ]
     },
     "metadata": {
      "needs_background": "light"
     },
     "output_type": "display_data"
    }
   ],
   "source": [
    "plt.figure(figsize = (8, 5))\n",
    "plt.plot(λ_est, Posterior)\n",
    "plt.vlines(λ_mode, -0.01, 0.41, color = 'red')\n",
    "plt.xlabel('$\\lambda$', fontsize = 15)\n",
    "plt.ylabel('$P(\\lambda | data)$', fontsize = 15)\n",
    "plt.ylim(-0.01, 0.46)\n",
    "plt.xlim(45, 55)\n",
    "plt.text(λ_mode, np.max(Posterior), '$\\lambda_{mode}$ = %.2f' %λ_mode, fontsize = 18)"
   ]
  },
  {
   "cell_type": "markdown",
   "id": "4e9555cf",
   "metadata": {},
   "source": [
    "How to define confidence interval? Consider that the posterior is symmetric with no skew. <br>\n",
    "The expected value of $x = \\bar{x} = \\int xP(x)dx$"
   ]
  },
  {
   "cell_type": "code",
   "execution_count": 61,
   "id": "3a1e10be",
   "metadata": {},
   "outputs": [
    {
     "data": {
      "text/plain": [
       "47.6146449704142"
      ]
     },
     "execution_count": 61,
     "metadata": {},
     "output_type": "execute_result"
    }
   ],
   "source": [
    "μ = np.trapz(λ_est * Posterior, λ_est)\n",
    "μ"
   ]
  },
  {
   "cell_type": "markdown",
   "id": "e4d2d677",
   "metadata": {},
   "source": [
    "<center> Variace of $x = \\int (x-\\bar{x})^{2}P(x)dx$"
   ]
  },
  {
   "cell_type": "code",
   "execution_count": 62,
   "id": "d6ccf0e2",
   "metadata": {},
   "outputs": [
    {
     "data": {
      "text/plain": [
       "0.9383220751749459"
      ]
     },
     "execution_count": 62,
     "metadata": {},
     "output_type": "execute_result"
    }
   ],
   "source": [
    "σ = np.sqrt(np.trapz(((λ_est - μ)**2)* Posterior, λ_est))\n",
    "σ"
   ]
  },
  {
   "cell_type": "markdown",
   "id": "13abc212",
   "metadata": {},
   "source": [
    "so we are 68\\% confident that $\\lambda$ is between   and.   "
   ]
  },
  {
   "cell_type": "code",
   "execution_count": 64,
   "id": "c2679456",
   "metadata": {},
   "outputs": [],
   "source": [
    "mask = (λ_est >= (λ_mode - σ)) & (λ_est <= (λ_mode + σ))"
   ]
  },
  {
   "cell_type": "code",
   "execution_count": 69,
   "id": "6cb9682a",
   "metadata": {},
   "outputs": [
    {
     "data": {
      "text/plain": [
       "<matplotlib.collections.PolyCollection at 0x7fe02a1e8d00>"
      ]
     },
     "execution_count": 69,
     "metadata": {},
     "output_type": "execute_result"
    },
    {
     "data": {
      "image/png": "[encoded data removed]",
      "text/plain": [
       "<Figure size 576x360 with 1 Axes>"
      ]
     },
     "metadata": {
      "needs_background": "light"
     },
     "output_type": "display_data"
    }
   ],
   "source": [
    "plt.figure(figsize = (8, 5))\n",
    "plt.plot(λ_est, Posterior)\n",
    "plt.vlines(λ_mode, -0.01, 0.41, color = 'red')\n",
    "plt.xlabel('$\\lambda$', fontsize = 15)\n",
    "plt.ylabel('$P(\\lambda | data)$', fontsize = 15)\n",
    "plt.ylim(-0.01, 0.46)\n",
    "plt.xlim(45, 55)\n",
    "plt.text(λ_mode, np.max(Posterior), '$\\lambda_{mode}$ = %.2f' %λ_mode, fontsize = 18)\n",
    "plt.fill_between(λ_est, Posterior, where = [(x >= (λ_mode - σ)) & (x<= (λ_mode + σ)) for x in λ_est], facecolor = 'green', alpha = 0.3)"
   ]
  },
  {
   "cell_type": "markdown",
   "id": "0fe7a1fa",
   "metadata": {},
   "source": [
    "---\n",
    "# <center> **An Introduction to Data Science**\n",
    "## <center> Spring 2024\n",
    "\n",
    "### <center> **Prof. Bahram Mobasher**\n",
    "### Teaching Assistant: **Sina Taamoli** | email: *sina.taamoli@email.ucr.edu*\n",
    "### [Course webpage](https://github.com/sinataamoli/Applied-Data-Science)\n",
    "#### Week 5 (May 2nd): Bayesian Statistics\n",
    "---"
   ]
  },
  {
   "cell_type": "markdown",
   "id": "151d98d0",
   "metadata": {},
   "source": [
    "### a) reading data"
   ]
  },
  {
   "cell_type": "code",
   "execution_count": 2,
   "id": "c678efa2",
   "metadata": {},
   "outputs": [],
   "source": [
    "import numpy as np\n",
    "import pandas as pd\n",
    "import matplotlib.pyplot as plt"
   ]
  },
  {
   "cell_type": "code",
   "execution_count": 3,
   "id": "b4e30fb6",
   "metadata": {},
   "outputs": [],
   "source": [
    "data = pd.read_csv('tweet_counts.csv')\n",
    "data_arr = data.to_numpy()"
   ]
  },
  {
   "cell_type": "code",
   "execution_count": 4,
   "id": "e0c8f0ef",
   "metadata": {},
   "outputs": [
    {
     "data": {
      "text/html": [
       "<div>\n",
       "<style scoped>\n",
       "    .dataframe tbody tr th:only-of-type {\n",
       "        vertical-align: middle;\n",
       "    }\n",
       "\n",
       "    .dataframe tbody tr th {\n",
       "        vertical-align: top;\n",
       "    }\n",
       "\n",
       "    .dataframe thead th {\n",
       "        text-align: right;\n",
       "    }\n",
       "</style>\n",
       "<table border=\"1\" class=\"dataframe\">\n",
       "  <thead>\n",
       "    <tr style=\"text-align: right;\">\n",
       "      <th></th>\n",
       "      <th>week</th>\n",
       "      <th>count</th>\n",
       "    </tr>\n",
       "  </thead>\n",
       "  <tbody>\n",
       "    <tr>\n",
       "      <th>0</th>\n",
       "      <td>1</td>\n",
       "      <td>39.0</td>\n",
       "    </tr>\n",
       "    <tr>\n",
       "      <th>1</th>\n",
       "      <td>2</td>\n",
       "      <td>46.0</td>\n",
       "    </tr>\n",
       "    <tr>\n",
       "      <th>2</th>\n",
       "      <td>3</td>\n",
       "      <td>41.0</td>\n",
       "    </tr>\n",
       "    <tr>\n",
       "      <th>3</th>\n",
       "      <td>4</td>\n",
       "      <td>42.0</td>\n",
       "    </tr>\n",
       "    <tr>\n",
       "      <th>4</th>\n",
       "      <td>5</td>\n",
       "      <td>31.0</td>\n",
       "    </tr>\n",
       "    <tr>\n",
       "      <th>5</th>\n",
       "      <td>6</td>\n",
       "      <td>44.0</td>\n",
       "    </tr>\n",
       "    <tr>\n",
       "      <th>6</th>\n",
       "      <td>7</td>\n",
       "      <td>33.0</td>\n",
       "    </tr>\n",
       "    <tr>\n",
       "      <th>7</th>\n",
       "      <td>8</td>\n",
       "      <td>42.0</td>\n",
       "    </tr>\n",
       "    <tr>\n",
       "      <th>8</th>\n",
       "      <td>9</td>\n",
       "      <td>31.0</td>\n",
       "    </tr>\n",
       "    <tr>\n",
       "      <th>9</th>\n",
       "      <td>10</td>\n",
       "      <td>28.0</td>\n",
       "    </tr>\n",
       "    <tr>\n",
       "      <th>10</th>\n",
       "      <td>11</td>\n",
       "      <td>36.0</td>\n",
       "    </tr>\n",
       "    <tr>\n",
       "      <th>11</th>\n",
       "      <td>12</td>\n",
       "      <td>40.0</td>\n",
       "    </tr>\n",
       "    <tr>\n",
       "      <th>12</th>\n",
       "      <td>13</td>\n",
       "      <td>33.0</td>\n",
       "    </tr>\n",
       "    <tr>\n",
       "      <th>13</th>\n",
       "      <td>14</td>\n",
       "      <td>45.0</td>\n",
       "    </tr>\n",
       "    <tr>\n",
       "      <th>14</th>\n",
       "      <td>15</td>\n",
       "      <td>42.0</td>\n",
       "    </tr>\n",
       "    <tr>\n",
       "      <th>15</th>\n",
       "      <td>16</td>\n",
       "      <td>28.0</td>\n",
       "    </tr>\n",
       "    <tr>\n",
       "      <th>16</th>\n",
       "      <td>17</td>\n",
       "      <td>34.0</td>\n",
       "    </tr>\n",
       "    <tr>\n",
       "      <th>17</th>\n",
       "      <td>18</td>\n",
       "      <td>42.0</td>\n",
       "    </tr>\n",
       "    <tr>\n",
       "      <th>18</th>\n",
       "      <td>19</td>\n",
       "      <td>45.0</td>\n",
       "    </tr>\n",
       "    <tr>\n",
       "      <th>19</th>\n",
       "      <td>20</td>\n",
       "      <td>37.0</td>\n",
       "    </tr>\n",
       "    <tr>\n",
       "      <th>20</th>\n",
       "      <td>21</td>\n",
       "      <td>39.0</td>\n",
       "    </tr>\n",
       "    <tr>\n",
       "      <th>21</th>\n",
       "      <td>22</td>\n",
       "      <td>35.0</td>\n",
       "    </tr>\n",
       "    <tr>\n",
       "      <th>22</th>\n",
       "      <td>23</td>\n",
       "      <td>28.0</td>\n",
       "    </tr>\n",
       "    <tr>\n",
       "      <th>23</th>\n",
       "      <td>24</td>\n",
       "      <td>30.0</td>\n",
       "    </tr>\n",
       "    <tr>\n",
       "      <th>24</th>\n",
       "      <td>25</td>\n",
       "      <td>24.0</td>\n",
       "    </tr>\n",
       "    <tr>\n",
       "      <th>25</th>\n",
       "      <td>26</td>\n",
       "      <td>40.0</td>\n",
       "    </tr>\n",
       "    <tr>\n",
       "      <th>26</th>\n",
       "      <td>27</td>\n",
       "      <td>22.0</td>\n",
       "    </tr>\n",
       "    <tr>\n",
       "      <th>27</th>\n",
       "      <td>28</td>\n",
       "      <td>46.0</td>\n",
       "    </tr>\n",
       "    <tr>\n",
       "      <th>28</th>\n",
       "      <td>29</td>\n",
       "      <td>37.0</td>\n",
       "    </tr>\n",
       "    <tr>\n",
       "      <th>29</th>\n",
       "      <td>30</td>\n",
       "      <td>37.0</td>\n",
       "    </tr>\n",
       "    <tr>\n",
       "      <th>30</th>\n",
       "      <td>31</td>\n",
       "      <td>38.0</td>\n",
       "    </tr>\n",
       "    <tr>\n",
       "      <th>31</th>\n",
       "      <td>32</td>\n",
       "      <td>36.0</td>\n",
       "    </tr>\n",
       "    <tr>\n",
       "      <th>32</th>\n",
       "      <td>33</td>\n",
       "      <td>41.0</td>\n",
       "    </tr>\n",
       "    <tr>\n",
       "      <th>33</th>\n",
       "      <td>34</td>\n",
       "      <td>38.0</td>\n",
       "    </tr>\n",
       "    <tr>\n",
       "      <th>34</th>\n",
       "      <td>35</td>\n",
       "      <td>42.0</td>\n",
       "    </tr>\n",
       "    <tr>\n",
       "      <th>35</th>\n",
       "      <td>36</td>\n",
       "      <td>43.0</td>\n",
       "    </tr>\n",
       "    <tr>\n",
       "      <th>36</th>\n",
       "      <td>37</td>\n",
       "      <td>30.0</td>\n",
       "    </tr>\n",
       "    <tr>\n",
       "      <th>37</th>\n",
       "      <td>38</td>\n",
       "      <td>45.0</td>\n",
       "    </tr>\n",
       "    <tr>\n",
       "      <th>38</th>\n",
       "      <td>39</td>\n",
       "      <td>46.0</td>\n",
       "    </tr>\n",
       "    <tr>\n",
       "      <th>39</th>\n",
       "      <td>40</td>\n",
       "      <td>51.0</td>\n",
       "    </tr>\n",
       "    <tr>\n",
       "      <th>40</th>\n",
       "      <td>41</td>\n",
       "      <td>55.0</td>\n",
       "    </tr>\n",
       "    <tr>\n",
       "      <th>41</th>\n",
       "      <td>42</td>\n",
       "      <td>36.0</td>\n",
       "    </tr>\n",
       "    <tr>\n",
       "      <th>42</th>\n",
       "      <td>43</td>\n",
       "      <td>42.0</td>\n",
       "    </tr>\n",
       "    <tr>\n",
       "      <th>43</th>\n",
       "      <td>44</td>\n",
       "      <td>44.0</td>\n",
       "    </tr>\n",
       "    <tr>\n",
       "      <th>44</th>\n",
       "      <td>45</td>\n",
       "      <td>36.0</td>\n",
       "    </tr>\n",
       "    <tr>\n",
       "      <th>45</th>\n",
       "      <td>46</td>\n",
       "      <td>44.0</td>\n",
       "    </tr>\n",
       "    <tr>\n",
       "      <th>46</th>\n",
       "      <td>47</td>\n",
       "      <td>41.0</td>\n",
       "    </tr>\n",
       "    <tr>\n",
       "      <th>47</th>\n",
       "      <td>48</td>\n",
       "      <td>38.0</td>\n",
       "    </tr>\n",
       "    <tr>\n",
       "      <th>48</th>\n",
       "      <td>49</td>\n",
       "      <td>38.0</td>\n",
       "    </tr>\n",
       "    <tr>\n",
       "      <th>49</th>\n",
       "      <td>50</td>\n",
       "      <td>56.0</td>\n",
       "    </tr>\n",
       "    <tr>\n",
       "      <th>50</th>\n",
       "      <td>51</td>\n",
       "      <td>39.0</td>\n",
       "    </tr>\n",
       "    <tr>\n",
       "      <th>51</th>\n",
       "      <td>52</td>\n",
       "      <td>40.0</td>\n",
       "    </tr>\n",
       "  </tbody>\n",
       "</table>\n",
       "</div>"
      ],
      "text/plain": [
       "    week  count\n",
       "0      1   39.0\n",
       "1      2   46.0\n",
       "2      3   41.0\n",
       "3      4   42.0\n",
       "4      5   31.0\n",
       "5      6   44.0\n",
       "6      7   33.0\n",
       "7      8   42.0\n",
       "8      9   31.0\n",
       "9     10   28.0\n",
       "10    11   36.0\n",
       "11    12   40.0\n",
       "12    13   33.0\n",
       "13    14   45.0\n",
       "14    15   42.0\n",
       "15    16   28.0\n",
       "16    17   34.0\n",
       "17    18   42.0\n",
       "18    19   45.0\n",
       "19    20   37.0\n",
       "20    21   39.0\n",
       "21    22   35.0\n",
       "22    23   28.0\n",
       "23    24   30.0\n",
       "24    25   24.0\n",
       "25    26   40.0\n",
       "26    27   22.0\n",
       "27    28   46.0\n",
       "28    29   37.0\n",
       "29    30   37.0\n",
       "30    31   38.0\n",
       "31    32   36.0\n",
       "32    33   41.0\n",
       "33    34   38.0\n",
       "34    35   42.0\n",
       "35    36   43.0\n",
       "36    37   30.0\n",
       "37    38   45.0\n",
       "38    39   46.0\n",
       "39    40   51.0\n",
       "40    41   55.0\n",
       "41    42   36.0\n",
       "42    43   42.0\n",
       "43    44   44.0\n",
       "44    45   36.0\n",
       "45    46   44.0\n",
       "46    47   41.0\n",
       "47    48   38.0\n",
       "48    49   38.0\n",
       "49    50   56.0\n",
       "50    51   39.0\n",
       "51    52   40.0"
      ]
     },
     "execution_count": 4,
     "metadata": {},
     "output_type": "execute_result"
    }
   ],
   "source": [
    "data"
   ]
  },
  {
   "cell_type": "code",
   "execution_count": 5,
   "id": "7ada4548",
   "metadata": {},
   "outputs": [],
   "source": [
    "week = data_arr[:,0]\n",
    "week = week.astype(int)\n",
    "tweets = data_arr[:,1]\n",
    "tweets = tweets.astype(int)"
   ]
  },
  {
   "cell_type": "code",
   "execution_count": 6,
   "id": "0097943a",
   "metadata": {},
   "outputs": [
    {
     "data": {
      "text/plain": [
       "38.76923076923077"
      ]
     },
     "execution_count": 6,
     "metadata": {},
     "output_type": "execute_result"
    }
   ],
   "source": [
    "np.mean(tweets)"
   ]
  },
  {
   "cell_type": "markdown",
   "id": "a9c89346",
   "metadata": {},
   "source": [
    "##### average number of tweets over 52 weeks is about"
   ]
  },
  {
   "cell_type": "markdown",
   "id": "7d8eaf92",
   "metadata": {},
   "source": [
    "### b) bar plot"
   ]
  },
  {
   "cell_type": "code",
   "execution_count": 7,
   "id": "be1384ce",
   "metadata": {},
   "outputs": [
    {
     "data": {
      "image/png": "[encoded data removed]",
      "text/plain": [
       "<Figure size 1080x216 with 1 Axes>"
      ]
     },
     "metadata": {
      "needs_background": "light"
     },
     "output_type": "display_data"
    }
   ],
   "source": [
    "fig = plt.figure(figsize=(15,3))\n",
    "plt.bar(week,tweets, color='blue',edgecolor='black')\n",
    "plt.xlim(0,53)\n",
    "plt.xlabel('Week',fontsize=15)\n",
    "plt.ylabel('tweet counts',fontsize=15)\n",
    "plt.title('Weekly tweet counts', fontsize=20)\n",
    "fig.facecolor = 'white'"
   ]
  },
  {
   "cell_type": "markdown",
   "id": "c664e901",
   "metadata": {},
   "source": [
    "### c) mean value of exponential distribution"
   ]
  },
  {
   "cell_type": "markdown",
   "id": "e7507fa7",
   "metadata": {},
   "source": [
    "### d)"
   ]
  },
  {
   "cell_type": "code",
   "execution_count": 9,
   "id": "6dd1c389",
   "metadata": {},
   "outputs": [
    {
     "data": {
      "image/png": "[encoded data removed]",
      "text/plain": [
       "<Figure size 432x288 with 1 Axes>"
      ]
     },
     "metadata": {
      "needs_background": "light"
     },
     "output_type": "display_data"
    }
   ],
   "source": [
    "α=1/np.mean(tweets)\n",
    "\n",
    "Exponential=lambda λ,α: α*np.exp(-λ*α)\n",
    "Exponential=np.vectorize(Exponential)\n",
    "\n",
    "plt.plot(np.linspace(0,200,1000),Exponential(np.linspace(0,200,1000),α),c='r')\n",
    "plt.xlabel('$\\lambda$', fontsize=15)\n",
    "plt.ylabel('$P$', fontsize=15)\n",
    "plt.show()"
   ]
  },
  {
   "cell_type": "markdown",
   "id": "467c34ce",
   "metadata": {},
   "source": [
    "### e)"
   ]
  },
  {
   "cell_type": "markdown",
   "id": "e5514f17",
   "metadata": {},
   "source": [
    "priors for $\\lambda_{1}$ and $\\lambda_{2}$ is exponential and for $W_{s}$ is a flat function."
   ]
  },
  {
   "cell_type": "code",
   "execution_count": 8,
   "id": "11a893b8",
   "metadata": {},
   "outputs": [],
   "source": [
    "λ1_est=np.linspace(25,50,50)\n",
    "λ2_est=np.linspace(25,50,50)\n",
    "Ws_est=np.arange(1,53,1)"
   ]
  },
  {
   "cell_type": "code",
   "execution_count": 9,
   "id": "e9a0fa88",
   "metadata": {},
   "outputs": [],
   "source": [
    "Poisson = lambda k,λ: (λ**k)*np.exp(-λ)/np.math.factorial(k)\n",
    "Poisson = np.vectorize(Poisson)"
   ]
  },
  {
   "cell_type": "markdown",
   "id": "ce814737",
   "metadata": {},
   "source": [
    "### f)"
   ]
  },
  {
   "cell_type": "markdown",
   "id": "b63e2853",
   "metadata": {},
   "source": [
    "#### First, we calculate posterior for each set of $[\\lambda_{1},\\lambda_{2},Ws]$ in 3D space"
   ]
  },
  {
   "cell_type": "markdown",
   "id": "b5eb1d1a",
   "metadata": {},
   "source": [
    "#### Marginalized posterior for $\\lambda_{1}$ and $\\lambda_{2}$"
   ]
  },
  {
   "cell_type": "code",
   "execution_count": 13,
   "id": "755a13bc",
   "metadata": {},
   "outputs": [],
   "source": [
    "PP = PP / np.sum(PP)"
   ]
  },
  {
   "cell_type": "code",
   "execution_count": null,
   "id": "8d971757",
   "metadata": {},
   "outputs": [],
   "source": [
    "fig = plt.figure(figsize=(8,5))\n",
    "plt.plot(λ1_est, PP[:, 0, 39]/np.trapz(PP[:, 0, 39],λ1_est),label='λ1 posterior',color='blue')\n",
    "plt.plot(λ2_est, PP[0, :, 39]/np.trapz(PP[0, :, 39],λ2_est),label='λ2 posterior',color='green')\n",
    "plt.legend()\n",
    "plt.vlines(λ1_est[np.argmax(PP[:, 0, 39])],-0.01,0.4,color='red')\n",
    "plt.vlines(λ2_est[np.argmax(PP[0, :, 39])],-0.01,0.22,color='red')\n",
    "plt.xlabel('$\\lambda$',fontsize=15)\n",
    "plt.ylabel('$P(λ|data)$',fontsize=15)\n",
    "plt.text(λ1_est[np.argmax(PP[:, 0, 39])]+1,0.35,'λ1(mode)={:0.2f}'.format(λ1_est[np.argmax(PP[:, 0, 39])]),fontsize=12)\n",
    "plt.text(λ2_est[np.argmax(PP[0, :, 39])],0.24,'λ2(mode)={:0.2f}'.format(λ2_est[np.argmax(PP[0, :, 39])]),fontsize=12)\n",
    "plt.title('marginalized-posterior for $\\lambda_{1}$ and $\\lambda_{2}$',fontsize=15)\n",
    "fig.facecolor = 'white'\n",
    "plt.show()"
   ]
  },
  {
   "cell_type": "markdown",
   "id": "87c77d50",
   "metadata": {},
   "source": [
    " #### Marginalized posterior for $Ws$"
   ]
  },
  {
   "cell_type": "code",
   "execution_count": 15,
   "id": "ee62d687",
   "metadata": {},
   "outputs": [],
   "source": [
    "def Posterior_margW(Ws):\n",
    "    return (np.sum(PP[:,:,Ws-1])/np.sum(PP))\n",
    "\n",
    "Posterior_margW = np.vectorize(Posterior_margW)"
   ]
  },
  {
   "cell_type": "code",
   "execution_count": null,
   "id": "0df4094f",
   "metadata": {},
   "outputs": [],
   "source": [
    "fig = plt.figure(figsize=(15,3))\n",
    "plt.bar(Ws_est,Posterior_margW(Ws_est), color='blue',edgecolor='black')\n",
    "plt.xlabel('Week',fontsize=13)\n",
    "plt.ylabel('$P(Ws|data)$',fontsize=13)\n",
    "plt.title('marginalized-posterior for Ws', fontsize=16)\n",
    "fig.facecolor = 'white'"
   ]
  },
  {
   "cell_type": "code",
   "execution_count": null,
   "id": "bf1ad050",
   "metadata": {},
   "outputs": [],
   "source": [
    "print('the peak of Ws is at week',Ws_est[np.argmax(Posterior_margW(Ws_est))])"
   ]
  },
  {
   "cell_type": "markdown",
   "id": "77020a07",
   "metadata": {},
   "source": [
    "### g)"
   ]
  },
  {
   "cell_type": "markdown",
   "id": "0abe9f7b",
   "metadata": {},
   "source": [
    "##### The answer is: $P(\\lambda_{2}-\\lambda_{1}>5)=\\int_{\\lambda_{2}=\\lambda_{1}+5}^{50}\\int_{\\lambda_{1}=25}^{50}P(\\lambda_{1},\\lambda_{2})d\\lambda_{1}d\\lambda_{2}$"
   ]
  },
  {
   "cell_type": "markdown",
   "id": "54b04837",
   "metadata": {},
   "source": [
    "#### we have the posterior probability for $\\lambda_{1}$ and $\\lambda_{2}$..."
   ]
  },
  {
   "attachments": {
    "image.png": {
     "image/png": "[encoded data removed]"
    }
   },
   "cell_type": "markdown",
   "id": "eb908ef2",
   "metadata": {},
   "source": [
    "## Naive Bayes spam filtering\n",
    "\n",
    "Consider that you are given a data set of text messages which are labeled with ham or spam. We will use a training sample with ~4000 text messages, but first let’s consider a few examples to get familiar with the naive Bayes idea. <br>\n",
    "![image.png](attachment:image.png)\n",
    "\n"
   ]
  },
  {
   "cell_type": "markdown",
   "id": "128260b9",
   "metadata": {},
   "source": []
  },
  {
   "cell_type": "markdown",
   "id": "bb9f0355",
   "metadata": {},
   "source": []
  }
 ],
 "metadata": {
  "kernelspec": {
   "display_name": "Python 3",
   "language": "python",
   "name": "python3"
  },
  "language_info": {
   "codemirror_mode": {
    "name": "ipython",
    "version": 3
   },
   "file_extension": ".py",
   "mimetype": "text/x-python",
   "name": "python",
   "nbconvert_exporter": "python",
   "pygments_lexer": "ipython3",
   "version": "3.8.8"
  }
 },
 "nbformat": 4,
 "nbformat_minor": 5
}
